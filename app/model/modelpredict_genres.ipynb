{
 "cells": [
  {
   "cell_type": "markdown",
   "id": "9ae50c00-ae32-4a16-a87b-1e38d63bec0c",
   "metadata": {},
   "source": [
    "**Step by step**\n",
    "\n",
    "1. Sélection et la division des caractéristiques\n",
    "\n",
    "    Choix des caractéristiques\n",
    "    \n",
    "    Normalisation des caractéristiques\n",
    "\n",
    "2. Construction du modèle\n",
    "\n",
    "    choix des modèles de prédiction \n",
    "    \n",
    "3. Entraînement du modèle\n",
    "\n",
    "    Entraînement : Entraîner le modèle sur less données IMDB.\n",
    "    \n",
    "4. Optimisation du modèle \n",
    "\n",
    "    Choix des techniques telles que la validation croisée et Grid Search pour optimiser les hyperparamètres du modèle\n",
    "    \n",
    "5. Evaluation du modèle\n",
    "    \n",
    "    Évaluation : Évaluer la performance du modèle à l'aide de métriques telles que le RMSE, MSE et R2\n",
    "        \n",
    "        MSE (Mean Squared Error) : C'est la moyenne des carrés des écarts entre les valeurs prédites par le modèle et les valeurs réelles\n",
    "        \n",
    "        RMSE (Root Mean Squared Error) : C'est la racine carrée du MSE. Cela donne une idée de la quantité d'erreur dans le modèle. \n",
    "        Plus le RMSE est bas, plus les prédictions sont précises\n",
    "        \n",
    "        R² (R-squared ou coefficient de détermination) : C'est une mesure de la qualité de l'ajustement du modèle à la variabilité des données \n"
   ]
  },
  {
   "cell_type": "code",
   "execution_count": 46,
   "id": "9fc33869-3c18-4d46-8934-beefe3cc55db",
   "metadata": {},
   "outputs": [],
   "source": [
    "import pandas as pd\n",
    "import seaborn as sns\n",
    "import numpy as np\n",
    "import matplotlib.pyplot as plt\n",
    "from sklearn.model_selection import train_test_split\n",
    "from sklearn.preprocessing import StandardScaler\n",
    "from sklearn.linear_model import LinearRegression\n",
    "from sklearn.ensemble import RandomForestRegressor\n",
    "from sklearn.model_selection import GridSearchCV\n",
    "from sklearn.metrics import mean_squared_error, mean_absolute_error, r2_score\n",
    "from sklearn.linear_model import LinearRegression\n",
    "from joblib import dump, load"
   ]
  },
  {
   "cell_type": "code",
   "execution_count": 47,
   "id": "34cb6779-ae18-4f46-ba33-2be9209099b0",
   "metadata": {},
   "outputs": [
    {
     "data": {
      "text/html": [
       "<div>\n",
       "<style scoped>\n",
       "    .dataframe tbody tr th:only-of-type {\n",
       "        vertical-align: middle;\n",
       "    }\n",
       "\n",
       "    .dataframe tbody tr th {\n",
       "        vertical-align: top;\n",
       "    }\n",
       "\n",
       "    .dataframe thead th {\n",
       "        text-align: right;\n",
       "    }\n",
       "</style>\n",
       "<table border=\"1\" class=\"dataframe\">\n",
       "  <thead>\n",
       "    <tr style=\"text-align: right;\">\n",
       "      <th></th>\n",
       "      <th>color</th>\n",
       "      <th>director_name</th>\n",
       "      <th>num_critic_for_reviews</th>\n",
       "      <th>duration</th>\n",
       "      <th>director_fb_likes</th>\n",
       "      <th>actor_3_fb_likes</th>\n",
       "      <th>actor_2_name</th>\n",
       "      <th>actor_1_fb_likes</th>\n",
       "      <th>gross</th>\n",
       "      <th>genres</th>\n",
       "      <th>...</th>\n",
       "      <th>Musical</th>\n",
       "      <th>Mystery</th>\n",
       "      <th>News</th>\n",
       "      <th>Romance</th>\n",
       "      <th>Sci-Fi</th>\n",
       "      <th>Short</th>\n",
       "      <th>Sport</th>\n",
       "      <th>Thriller</th>\n",
       "      <th>War</th>\n",
       "      <th>Western</th>\n",
       "    </tr>\n",
       "  </thead>\n",
       "  <tbody>\n",
       "    <tr>\n",
       "      <th>0</th>\n",
       "      <td>Color</td>\n",
       "      <td>James Cameron</td>\n",
       "      <td>723.0</td>\n",
       "      <td>178.0</td>\n",
       "      <td>0.0</td>\n",
       "      <td>855.0</td>\n",
       "      <td>Joel David Moore</td>\n",
       "      <td>1000.0</td>\n",
       "      <td>760505847.0</td>\n",
       "      <td>Action|Adventure|Fantasy|Sci-Fi</td>\n",
       "      <td>...</td>\n",
       "      <td>0</td>\n",
       "      <td>0</td>\n",
       "      <td>0</td>\n",
       "      <td>0</td>\n",
       "      <td>1</td>\n",
       "      <td>0</td>\n",
       "      <td>0</td>\n",
       "      <td>0</td>\n",
       "      <td>0</td>\n",
       "      <td>0</td>\n",
       "    </tr>\n",
       "    <tr>\n",
       "      <th>1</th>\n",
       "      <td>Color</td>\n",
       "      <td>Gore Verbinski</td>\n",
       "      <td>302.0</td>\n",
       "      <td>169.0</td>\n",
       "      <td>563.0</td>\n",
       "      <td>1000.0</td>\n",
       "      <td>Orlando Bloom</td>\n",
       "      <td>40000.0</td>\n",
       "      <td>309404152.0</td>\n",
       "      <td>Action|Adventure|Fantasy</td>\n",
       "      <td>...</td>\n",
       "      <td>0</td>\n",
       "      <td>0</td>\n",
       "      <td>0</td>\n",
       "      <td>0</td>\n",
       "      <td>0</td>\n",
       "      <td>0</td>\n",
       "      <td>0</td>\n",
       "      <td>0</td>\n",
       "      <td>0</td>\n",
       "      <td>0</td>\n",
       "    </tr>\n",
       "    <tr>\n",
       "      <th>2</th>\n",
       "      <td>Color</td>\n",
       "      <td>Sam Mendes</td>\n",
       "      <td>602.0</td>\n",
       "      <td>148.0</td>\n",
       "      <td>0.0</td>\n",
       "      <td>161.0</td>\n",
       "      <td>Rory Kinnear</td>\n",
       "      <td>11000.0</td>\n",
       "      <td>200074175.0</td>\n",
       "      <td>Action|Adventure|Thriller</td>\n",
       "      <td>...</td>\n",
       "      <td>0</td>\n",
       "      <td>0</td>\n",
       "      <td>0</td>\n",
       "      <td>0</td>\n",
       "      <td>0</td>\n",
       "      <td>0</td>\n",
       "      <td>0</td>\n",
       "      <td>1</td>\n",
       "      <td>0</td>\n",
       "      <td>0</td>\n",
       "    </tr>\n",
       "    <tr>\n",
       "      <th>3</th>\n",
       "      <td>Color</td>\n",
       "      <td>Christopher Nolan</td>\n",
       "      <td>813.0</td>\n",
       "      <td>164.0</td>\n",
       "      <td>22000.0</td>\n",
       "      <td>23000.0</td>\n",
       "      <td>Christian Bale</td>\n",
       "      <td>27000.0</td>\n",
       "      <td>448130642.0</td>\n",
       "      <td>Action|Thriller</td>\n",
       "      <td>...</td>\n",
       "      <td>0</td>\n",
       "      <td>0</td>\n",
       "      <td>0</td>\n",
       "      <td>0</td>\n",
       "      <td>0</td>\n",
       "      <td>0</td>\n",
       "      <td>0</td>\n",
       "      <td>1</td>\n",
       "      <td>0</td>\n",
       "      <td>0</td>\n",
       "    </tr>\n",
       "    <tr>\n",
       "      <th>4</th>\n",
       "      <td>Color</td>\n",
       "      <td>Andrew Stanton</td>\n",
       "      <td>462.0</td>\n",
       "      <td>132.0</td>\n",
       "      <td>475.0</td>\n",
       "      <td>530.0</td>\n",
       "      <td>Samantha Morton</td>\n",
       "      <td>640.0</td>\n",
       "      <td>73058679.0</td>\n",
       "      <td>Action|Adventure|Sci-Fi</td>\n",
       "      <td>...</td>\n",
       "      <td>0</td>\n",
       "      <td>0</td>\n",
       "      <td>0</td>\n",
       "      <td>0</td>\n",
       "      <td>1</td>\n",
       "      <td>0</td>\n",
       "      <td>0</td>\n",
       "      <td>0</td>\n",
       "      <td>0</td>\n",
       "      <td>0</td>\n",
       "    </tr>\n",
       "  </tbody>\n",
       "</table>\n",
       "<p>5 rows × 61 columns</p>\n",
       "</div>"
      ],
      "text/plain": [
       "   color      director_name  num_critic_for_reviews  duration  \\\n",
       "0  Color      James Cameron                   723.0     178.0   \n",
       "1  Color     Gore Verbinski                   302.0     169.0   \n",
       "2  Color         Sam Mendes                   602.0     148.0   \n",
       "3  Color  Christopher Nolan                   813.0     164.0   \n",
       "4  Color     Andrew Stanton                   462.0     132.0   \n",
       "\n",
       "   director_fb_likes  actor_3_fb_likes      actor_2_name  actor_1_fb_likes  \\\n",
       "0                0.0             855.0  Joel David Moore            1000.0   \n",
       "1              563.0            1000.0     Orlando Bloom           40000.0   \n",
       "2                0.0             161.0      Rory Kinnear           11000.0   \n",
       "3            22000.0           23000.0    Christian Bale           27000.0   \n",
       "4              475.0             530.0   Samantha Morton             640.0   \n",
       "\n",
       "         gross                           genres  ... Musical Mystery  News  \\\n",
       "0  760505847.0  Action|Adventure|Fantasy|Sci-Fi  ...       0       0     0   \n",
       "1  309404152.0         Action|Adventure|Fantasy  ...       0       0     0   \n",
       "2  200074175.0        Action|Adventure|Thriller  ...       0       0     0   \n",
       "3  448130642.0                  Action|Thriller  ...       0       0     0   \n",
       "4   73058679.0          Action|Adventure|Sci-Fi  ...       0       0     0   \n",
       "\n",
       "   Romance Sci-Fi  Short Sport Thriller  War Western  \n",
       "0        0      1      0     0        0    0       0  \n",
       "1        0      0      0     0        0    0       0  \n",
       "2        0      0      0     0        1    0       0  \n",
       "3        0      0      0     0        1    0       0  \n",
       "4        0      1      0     0        0    0       0  \n",
       "\n",
       "[5 rows x 61 columns]"
      ]
     },
     "execution_count": 47,
     "metadata": {},
     "output_type": "execute_result"
    }
   ],
   "source": [
    "# URL fournie\n",
    "dataset_url = \"https://raw.githubusercontent.com/AntoanetaStoyanova/PROJECT-IMBD/main/Datas/5000_movie_correction.csv\"\n",
    "\n",
    "# Chargement des données\n",
    "df = pd.read_csv(dataset_url)\n",
    "df.head(5)"
   ]
  },
  {
   "cell_type": "code",
   "execution_count": 48,
   "id": "28d4941c-cd4a-4cf1-8709-f2da2dc61919",
   "metadata": {},
   "outputs": [
    {
     "name": "stdout",
     "output_type": "stream",
     "text": [
      "<class 'pandas.core.frame.DataFrame'>\n",
      "RangeIndex: 4768 entries, 0 to 4767\n",
      "Data columns (total 61 columns):\n",
      " #   Column                  Non-Null Count  Dtype  \n",
      "---  ------                  --------------  -----  \n",
      " 0   color                   4768 non-null   object \n",
      " 1   director_name           4768 non-null   object \n",
      " 2   num_critic_for_reviews  4768 non-null   float64\n",
      " 3   duration                4768 non-null   float64\n",
      " 4   director_fb_likes       4768 non-null   float64\n",
      " 5   actor_3_fb_likes        4758 non-null   float64\n",
      " 6   actor_2_name            4768 non-null   object \n",
      " 7   actor_1_fb_likes        4768 non-null   float64\n",
      " 8   gross                   4768 non-null   float64\n",
      " 9   genres                  4768 non-null   object \n",
      " 10  actor_1_name            4768 non-null   object \n",
      " 11  movie_title             4768 non-null   object \n",
      " 12  num_voted_users         4768 non-null   int64  \n",
      " 13  cast_total_fb_likes     4768 non-null   int64  \n",
      " 14  actor_3_name            4768 non-null   object \n",
      " 15  facenumber_in_poster    4768 non-null   float64\n",
      " 16  plot_keywords           4647 non-null   object \n",
      " 17  movie_imdb_link         4768 non-null   object \n",
      " 18  num_user_for_reviews    4768 non-null   float64\n",
      " 19  language                4767 non-null   object \n",
      " 20  country                 4768 non-null   object \n",
      " 21  content_rating          4535 non-null   object \n",
      " 22  budget                  4768 non-null   float64\n",
      " 23  title_year              4768 non-null   int64  \n",
      " 24  actor_2_fb_likes        4765 non-null   float64\n",
      " 25  imdb_score              4768 non-null   float64\n",
      " 26  aspect_ratio            4495 non-null   float64\n",
      " 27  movie_fb_likes          4768 non-null   int64  \n",
      " 28  color_binary            4768 non-null   int64  \n",
      " 29  genre1                  4768 non-null   object \n",
      " 30  genre2                  4183 non-null   object \n",
      " 31  genre3                  2890 non-null   object \n",
      " 32  genre4                  1354 non-null   object \n",
      " 33  genre5                  424 non-null    object \n",
      " 34  genre6                  92 non-null     object \n",
      " 35  genre7                  22 non-null     object \n",
      " 36  genre8                  4 non-null      object \n",
      " 37  Action                  4768 non-null   int64  \n",
      " 38  Adventure               4768 non-null   int64  \n",
      " 39  Animation               4768 non-null   int64  \n",
      " 40  Biography               4768 non-null   int64  \n",
      " 41  Comedy                  4768 non-null   int64  \n",
      " 42  Crime                   4768 non-null   int64  \n",
      " 43  Documentary             4768 non-null   int64  \n",
      " 44  Drama                   4768 non-null   int64  \n",
      " 45  Family                  4768 non-null   int64  \n",
      " 46  Fantasy                 4768 non-null   int64  \n",
      " 47  Film-Noir               4768 non-null   int64  \n",
      " 48  History                 4768 non-null   int64  \n",
      " 49  Horror                  4768 non-null   int64  \n",
      " 50  Music                   4768 non-null   int64  \n",
      " 51  Musical                 4768 non-null   int64  \n",
      " 52  Mystery                 4768 non-null   int64  \n",
      " 53  News                    4768 non-null   int64  \n",
      " 54  Romance                 4768 non-null   int64  \n",
      " 55  Sci-Fi                  4768 non-null   int64  \n",
      " 56  Short                   4768 non-null   int64  \n",
      " 57  Sport                   4768 non-null   int64  \n",
      " 58  Thriller                4768 non-null   int64  \n",
      " 59  War                     4768 non-null   int64  \n",
      " 60  Western                 4768 non-null   int64  \n",
      "dtypes: float64(12), int64(29), object(20)\n",
      "memory usage: 2.2+ MB\n"
     ]
    }
   ],
   "source": [
    "df.info()\n"
   ]
  },
  {
   "cell_type": "markdown",
   "id": "f034f52e-f0e4-4886-860b-611f407f9bb9",
   "metadata": {},
   "source": [
    "****Selection de la cible****"
   ]
  },
  {
   "cell_type": "code",
   "execution_count": 49,
   "id": "a42f40bb-cc43-40c7-a17b-8ff21cc6095d",
   "metadata": {},
   "outputs": [],
   "source": [
    "# Sélection des caractéristiques et de la cible\n",
    "features = ['num_critic_for_reviews', 'duration', 'actor_1_fb_likes', 'gross', 'num_voted_users', 'facenumber_in_poster', 'num_user_for_reviews', 'budget', 'title_year',\n",
    "            'Action', 'Adventure', 'Animation', 'Biography', 'Comedy', 'Crime', 'Documentary', 'Drama', 'Family', 'Fantasy', 'Film-Noir', 'History', 'Horror', 'Music',\n",
    "            'Musical', 'Mystery', 'News', 'Romance', 'Sci-Fi', 'Short', 'Sport', 'Thriller', 'War', 'Western']\n",
    "target = 'imdb_score'  \n"
   ]
  },
  {
   "cell_type": "markdown",
   "id": "8c97b307-5e77-4c0e-afca-4452a412c15e",
   "metadata": {},
   "source": [
    "****Division des données****"
   ]
  },
  {
   "cell_type": "code",
   "execution_count": 50,
   "id": "5d6a41f1-36c1-402f-b5bf-de98c1b6429e",
   "metadata": {},
   "outputs": [],
   "source": [
    "# Division des données\n",
    "X = df[features]\n",
    "y =df[target]\n",
    "\n",
    "X_train, X_test, y_train, y_test = train_test_split(X, y, test_size=0.2, random_state=42)\n"
   ]
  },
  {
   "cell_type": "markdown",
   "id": "e3f3be47-81b3-46f3-85d1-88348c2677cc",
   "metadata": {},
   "source": [
    "****Normalisation des caractéristiques****"
   ]
  },
  {
   "cell_type": "code",
   "execution_count": 51,
   "id": "27519360-9604-4d96-add8-4e353c2087fe",
   "metadata": {},
   "outputs": [],
   "source": [
    "# Normalisation des caractéristiques\n",
    "scaler = StandardScaler()\n",
    "X_train_scaled = scaler.fit_transform(X_train)\n",
    "X_test_scaled = scaler.transform(X_test)"
   ]
  },
  {
   "cell_type": "markdown",
   "id": "21cd1af3-1691-4e06-b4c4-9883826bcdb4",
   "metadata": {},
   "source": [
    "****Evaluation des modèles****"
   ]
  },
  {
   "cell_type": "markdown",
   "id": "9c718064-3984-4b4e-8e84-0136194c0166",
   "metadata": {},
   "source": [
    "**1er : LinearRegression**"
   ]
  },
  {
   "cell_type": "code",
   "execution_count": 52,
   "id": "0430b74e-7cc8-481f-a1cb-9d05177c369d",
   "metadata": {},
   "outputs": [],
   "source": [
    "# 1) Grid Search pour les meilleurs hyperparamètres\n",
    "# Définir les hyperparamètres à tester\n",
    "parameters = {'fit_intercept': [True, False]}\n",
    "\n",
    "# Initialiser le modèle de régression linéaire\n",
    "model_LR = LinearRegression()\n",
    "\n",
    "# Créer l'objet GridSearchCV avec le modèle de régression linéaire et les paramètres\n",
    "grid_search = GridSearchCV(model_LR, parameters, cv=5, scoring='neg_mean_squared_error')\n",
    "\n",
    "# Entraîner Grid Search avec les données d'entraînement pour trouver les meilleurs hyperparamètres\n",
    "grid_search.fit(X_train_scaled, y_train)\n",
    "\n",
    "# Sélectionner le meilleur modèle trouvé par Grid Search\n",
    "best_model = grid_search.best_estimator_"
   ]
  },
  {
   "cell_type": "code",
   "execution_count": 53,
   "id": "d3d288c0-173c-445e-a1ba-a33b6c7f5f4e",
   "metadata": {},
   "outputs": [
    {
     "name": "stdout",
     "output_type": "stream",
     "text": [
      "MSE : 0.688999113855472\n",
      "MAE  : 0.6015958792415181\n",
      "RMSE : 0.8300597049944491\n",
      "R²  : 0.45061451717572865\n"
     ]
    }
   ],
   "source": [
    "# 2) Prédiction sur l'ensemble de test avec le modèle trouvé\n",
    "y_pred_best = best_model.predict(X_test_scaled)\n",
    "\n",
    "# Calcul des métriques pour le modèle trouvé\n",
    "mse_best = mean_squared_error(y_test, y_pred_best)\n",
    "mae_best = mean_absolute_error(y_test, y_pred_best)\n",
    "rmse_best = np.sqrt(mse_best)\n",
    "r2_best = r2_score(y_test, y_pred_best)\n",
    "\n",
    "# Affichage des métriques pour le modèle trouvé\n",
    "print(f'MSE : {mse_best}')\n",
    "print(f'MAE  : {mae_best}')\n",
    "print(f'RMSE : {rmse_best}')\n",
    "print(f'R²  : {r2_best}')\n"
   ]
  },
  {
   "cell_type": "markdown",
   "id": "b46bacf8-f63b-49e6-bbb2-f31b217cbf94",
   "metadata": {},
   "source": [
    "**2eme : RandomForestRegressor**"
   ]
  },
  {
   "cell_type": "code",
   "execution_count": 54,
   "id": "cccded84-67e8-4904-9d36-077d6ee63329",
   "metadata": {},
   "outputs": [],
   "source": [
    "# 1) Grid Search pour les meilleurs hyperparamètres\n",
    "# Définir les hyperparamètres à tester\n",
    "parameters = {'n_estimators': [100, 200], 'max_depth': [10, 20, None]}\n",
    "\n",
    "# Initialiser le modèle\n",
    "model = RandomForestRegressor(random_state=42)\n",
    "\n",
    "# Créer l'objet GridSearchCV avec le modèle et les paramètres\n",
    "grid_search = GridSearchCV(model, parameters, cv=5, scoring='neg_mean_squared_error')\n",
    "\n",
    "# Entraîner Grid Search avec les données d'entraînement pour trouver les meilleurs hyperparamètres\n",
    "grid_search.fit(X_train_scaled, y_train)\n",
    "\n",
    "# Sélectionner le meilleur modèle trouvé par Grid Search\n",
    "best_model = grid_search.best_estimator_"
   ]
  },
  {
   "cell_type": "code",
   "execution_count": 55,
   "id": "2cdd037a-bec2-41b0-863f-ac861acb4f0d",
   "metadata": {},
   "outputs": [
    {
     "name": "stdout",
     "output_type": "stream",
     "text": [
      "MSE  : 0.5505615838322225\n",
      "MAE  : 0.520738112554975\n",
      "RMSE : 0.7419983718528111\n",
      "R²   : 0.5610001007612198\n"
     ]
    }
   ],
   "source": [
    "from sklearn.metrics import mean_squared_error, mean_absolute_error, r2_score\n",
    "\n",
    "# 2) Entraînement du modèle retenu avec les meilleurs hyperparamètres trouvés\n",
    "best_model.fit(X_train_scaled, y_train)\n",
    "\n",
    "# Prédiction sur l'ensemble de test avec le modèle final\n",
    "y_pred_best = best_model.predict(X_test_scaled)\n",
    "\n",
    "# Calcul des métriques pour le modèle final\n",
    "mse_best = mean_squared_error(y_test, y_pred_best)\n",
    "mae_best = mean_absolute_error(y_test, y_pred_best)\n",
    "rmse_best = np.sqrt(mse_best)\n",
    "r2_best = r2_score(y_test, y_pred_best)\n",
    "\n",
    "# Affichage des métriques pour le modèle final\n",
    "print(f'MSE  : {mse_best}')\n",
    "print(f'MAE  : {mae_best}')\n",
    "print(f'RMSE : {rmse_best}')\n",
    "print(f'R²   : {r2_best}')\n"
   ]
  },
  {
   "cell_type": "markdown",
   "id": "65703909-e906-4ec8-bce5-97105e34a4c0",
   "metadata": {},
   "source": [
    "****Choix du modele : RandomForestRegressor****"
   ]
  },
  {
   "cell_type": "code",
   "execution_count": 56,
   "id": "7c82b61a-bbcb-4fab-a89d-5a2ee03982f2",
   "metadata": {},
   "outputs": [],
   "source": [
    "# 1) Grid Search pour les meilleurs hyperparamètres\n",
    "# Définir les hyperparamètres à tester\n",
    "parameters = {'n_estimators': [100, 200], 'max_depth': [10, 20, None]}\n",
    "\n",
    "# Initialiser le modèle\n",
    "model_RFR = RandomForestRegressor(random_state=42)\n",
    "\n",
    "# Créer l'objet GridSearchCV avec le modèle et les paramètres\n",
    "grid_search = GridSearchCV(model_RFR, parameters, cv=5, scoring='neg_mean_squared_error')\n",
    "\n",
    "# Entraîner Grid Search avec les données d'entraînement pour trouver les meilleurs hyperparamètres\n",
    "grid_search.fit(X_train_scaled, y_train)\n",
    "\n",
    "# Sélectionner le meilleur modèle trouvé par Grid Search\n",
    "model = grid_search.best_estimator_\n"
   ]
  },
  {
   "cell_type": "code",
   "execution_count": 57,
   "id": "9aadf0ab-4b1a-4f35-b138-0f9a9c775ec5",
   "metadata": {},
   "outputs": [
    {
     "name": "stdout",
     "output_type": "stream",
     "text": [
      "MSE (Meilleur modèle) : 0.5505615838322225\n",
      "MAE  (Meilleur modèle) : 0.520738112554975\n",
      "RMSE (Meilleur modèle) : 0.7419983718528111\n",
      "R² (Meilleur modèle) : 0.5610001007612198\n"
     ]
    }
   ],
   "source": [
    "# 2) Entraînement du modèle retenu avec les meilleurs hyperparamètres trouvés\n",
    "model.fit(X_train_scaled, y_train)\n",
    "\n",
    "# Prédiction sur l'ensemble de test avec le modèle final\n",
    "y_pred_best = model.predict(X_test_scaled)\n",
    "\n",
    "# Calcul des métriques pour le modèle final\n",
    "mse_best = mean_squared_error(y_test, y_pred_best)\n",
    "mae_best = mean_absolute_error(y_test, y_pred_best)\n",
    "rmse_best = np.sqrt(mse_best)\n",
    "r2_best = r2_score(y_test, y_pred_best)\n",
    "\n",
    "# Affichage des métriques pour le modèle final\n",
    "print(f'MSE (Meilleur modèle) : {mse_best}')\n",
    "print(f'MAE  (Meilleur modèle) : {mae_best}')\n",
    "print(f'RMSE (Meilleur modèle) : {rmse_best}')\n",
    "print(f'R² (Meilleur modèle) : {r2_best}')"
   ]
  },
  {
   "cell_type": "markdown",
   "id": "900a2aa7-4302-4de6-929b-a462c5ca9af5",
   "metadata": {},
   "source": [
    "****Sauvegarde du modèle pour le déployer dans une application****"
   ]
  },
  {
   "cell_type": "code",
   "execution_count": 58,
   "id": "102ee63d-2dec-43ca-b48f-8f704e797095",
   "metadata": {},
   "outputs": [],
   "source": [
    "# # Sauvegarde du modèle dans un fichier\n",
    "# dump(model, 'modeleIMDB.joblib')\n",
    "\n",
    "# # Pour charger le modèle plus tard\n",
    "# modele_charge = load('modeleIMDB.joblib')\n"
   ]
  },
  {
   "cell_type": "markdown",
   "id": "ac546015-d3d2-4fb8-8de1-3708cb70e5bc",
   "metadata": {},
   "source": [
    "Afficher les Prédictions et les Valeurs Réelles"
   ]
  },
  {
   "cell_type": "code",
   "execution_count": 59,
   "id": "5b6fb9b7-95a0-4fe0-9173-021952e9cb29",
   "metadata": {},
   "outputs": [
    {
     "name": "stdout",
     "output_type": "stream",
     "text": [
      "      Réel    Prédit\n",
      "964    6.0  6.214685\n",
      "2223   4.5  5.378838\n",
      "2598   6.6  6.763452\n",
      "3965   7.3  6.960500\n",
      "598    5.4  5.361482\n",
      "...    ...       ...\n",
      "2576   6.7  5.806865\n",
      "3690   7.2  7.422575\n",
      "113    7.5  7.220000\n",
      "2692   5.5  6.157002\n",
      "1371   7.3  6.741910\n",
      "\n",
      "[954 rows x 2 columns]\n"
     ]
    }
   ],
   "source": [
    "\n",
    "# Comparer les valeurs réelles et prédites\n",
    "df_predictions = pd.DataFrame({'Réel': y_test, 'Prédit': y_pred_best})\n",
    "print(df_predictions)\n"
   ]
  },
  {
   "cell_type": "markdown",
   "id": "064d52e1-9bc9-4f7d-a4ce-24535f9650a9",
   "metadata": {},
   "source": [
    "Visualiser les Résultats"
   ]
  },
  {
   "cell_type": "code",
   "execution_count": 60,
   "id": "e552d075-db90-4695-aabf-5118f4ae5d8a",
   "metadata": {},
   "outputs": [
    {
     "data": {
      "image/png": "[encoded data removed]",
      "text/plain": [
       "<Figure size 1000x600 with 1 Axes>"
      ]
     },
     "metadata": {},
     "output_type": "display_data"
    }
   ],
   "source": [
    "plt.figure(figsize=(10, 6))\n",
    "plt.scatter(y_test, y_pred_best)\n",
    "plt.xlabel('Valeurs Réelles')\n",
    "plt.ylabel('Prédictions')\n",
    "plt.title('Valeurs Réelles vs Prédictions')\n",
    "plt.show()\n"
   ]
  },
  {
   "cell_type": "markdown",
   "id": "5282e264-3701-4283-929e-51776ee2c590",
   "metadata": {},
   "source": [
    "Analyser les Résidus\n",
    "Les résidus (la différence entre les valeurs réelles et prédites) peuvent donner des informations sur la performance du modèle."
   ]
  },
  {
   "cell_type": "code",
   "execution_count": 61,
   "id": "332d633b-f0bd-4c6a-acb0-71c591a90555",
   "metadata": {},
   "outputs": [
    {
     "data": {
      "image/png": "[encoded data removed]",
      "text/plain": [
       "<Figure size 1000x600 with 1 Axes>"
      ]
     },
     "metadata": {},
     "output_type": "display_data"
    }
   ],
   "source": [
    "# Calcul des résidus\n",
    "residus = y_test - y_pred_best\n",
    "\n",
    "plt.figure(figsize=(10, 6))\n",
    "plt.scatter(y_pred_best, residus)\n",
    "plt.xlabel('Prédictions')\n",
    "plt.ylabel('Résidus')\n",
    "plt.title('Prédictions vs Résidus')\n",
    "plt.axhline(y=0, color='r', linestyle='-')\n",
    "plt.show()\n"
   ]
  },
  {
   "cell_type": "markdown",
   "id": "1487c243-aeab-4b9e-b86f-84abfd5eaffe",
   "metadata": {},
   "source": [
    "Évaluer la Distribution des Erreurs\n",
    "Vérifiez la distribution des erreurs (résidus) pour voir si elles sont normalement distribuées, ce qui est une bonne indication que le modèle fonctionne bien"
   ]
  },
  {
   "cell_type": "code",
   "execution_count": 62,
   "id": "5d46a557-fc19-476f-9052-0a3bb4d1c01b",
   "metadata": {},
   "outputs": [
    {
     "data": {
      "image/png": "[encoded data removed]",
      "text/plain": [
       "<Figure size 1000x600 with 1 Axes>"
      ]
     },
     "metadata": {},
     "output_type": "display_data"
    }
   ],
   "source": [
    "plt.figure(figsize=(10, 6))\n",
    "plt.hist(residus, bins=20, edgecolor='black')\n",
    "plt.xlabel('Résidus')\n",
    "plt.title('Distribution des Résidus')\n",
    "plt.show()\n"
   ]
  },
  {
   "cell_type": "code",
   "execution_count": 63,
   "id": "db874b8b-1bcd-4268-abf0-1745deafdccb",
   "metadata": {},
   "outputs": [
    {
     "data": {
      "text/html": [
       "<div>\n",
       "<style scoped>\n",
       "    .dataframe tbody tr th:only-of-type {\n",
       "        vertical-align: middle;\n",
       "    }\n",
       "\n",
       "    .dataframe tbody tr th {\n",
       "        vertical-align: top;\n",
       "    }\n",
       "\n",
       "    .dataframe thead th {\n",
       "        text-align: right;\n",
       "    }\n",
       "</style>\n",
       "<table border=\"1\" class=\"dataframe\">\n",
       "  <thead>\n",
       "    <tr style=\"text-align: right;\">\n",
       "      <th></th>\n",
       "      <th>Réel</th>\n",
       "      <th>Prédit</th>\n",
       "    </tr>\n",
       "  </thead>\n",
       "  <tbody>\n",
       "    <tr>\n",
       "      <th>count</th>\n",
       "      <td>954.000000</td>\n",
       "      <td>954.000000</td>\n",
       "    </tr>\n",
       "    <tr>\n",
       "      <th>mean</th>\n",
       "      <td>6.406709</td>\n",
       "      <td>6.415294</td>\n",
       "    </tr>\n",
       "    <tr>\n",
       "      <th>std</th>\n",
       "      <td>1.120465</td>\n",
       "      <td>0.780923</td>\n",
       "    </tr>\n",
       "    <tr>\n",
       "      <th>min</th>\n",
       "      <td>1.600000</td>\n",
       "      <td>3.672222</td>\n",
       "    </tr>\n",
       "    <tr>\n",
       "      <th>25%</th>\n",
       "      <td>5.800000</td>\n",
       "      <td>5.864031</td>\n",
       "    </tr>\n",
       "    <tr>\n",
       "      <th>50%</th>\n",
       "      <td>6.500000</td>\n",
       "      <td>6.400321</td>\n",
       "    </tr>\n",
       "    <tr>\n",
       "      <th>75%</th>\n",
       "      <td>7.200000</td>\n",
       "      <td>6.957042</td>\n",
       "    </tr>\n",
       "    <tr>\n",
       "      <th>max</th>\n",
       "      <td>9.200000</td>\n",
       "      <td>8.849500</td>\n",
       "    </tr>\n",
       "  </tbody>\n",
       "</table>\n",
       "</div>"
      ],
      "text/plain": [
       "             Réel      Prédit\n",
       "count  954.000000  954.000000\n",
       "mean     6.406709    6.415294\n",
       "std      1.120465    0.780923\n",
       "min      1.600000    3.672222\n",
       "25%      5.800000    5.864031\n",
       "50%      6.500000    6.400321\n",
       "75%      7.200000    6.957042\n",
       "max      9.200000    8.849500"
      ]
     },
     "execution_count": 63,
     "metadata": {},
     "output_type": "execute_result"
    }
   ],
   "source": [
    "df_predictions.describe()\n"
   ]
  }
 ],
 "metadata": {
  "kernelspec": {
   "display_name": "Python 3 (ipykernel)",
   "language": "python",
   "name": "python3"
  },
  "language_info": {
   "codemirror_mode": {
    "name": "ipython",
    "version": 3
   },
   "file_extension": ".py",
   "mimetype": "text/x-python",
   "name": "python",
   "nbconvert_exporter": "python",
   "pygments_lexer": "ipython3",
   "version": "3.10.9"
  }
 },
 "nbformat": 4,
 "nbformat_minor": 5
}
